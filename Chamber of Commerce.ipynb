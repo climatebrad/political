{
 "cells": [
  {
   "cell_type": "code",
   "execution_count": null,
   "metadata": {},
   "outputs": [],
   "source": [
    "import importlib\n",
    "import chamber\n",
    "importlib.reload(chamber)\n",
    "directors = chamber.get_chamber_directors()"
   ]
  },
  {
   "cell_type": "code",
   "execution_count": null,
   "metadata": {},
   "outputs": [],
   "source": [
    "director = directors[75]\n",
    "director"
   ]
  },
  {
   "cell_type": "code",
   "execution_count": null,
   "metadata": {},
   "outputs": [],
   "source": [
    "directors"
   ]
  },
  {
   "cell_type": "code",
   "execution_count": null,
   "metadata": {},
   "outputs": [],
   "source": [
    "import requests\n",
    "from bs4 import BeautifulSoup\n",
    "url = 'https://www.uschamber.com/about/board-of-directors'\n",
    "response = requests.get(url)\n",
    "soup = BeautifulSoup(response.text, 'html.parser')"
   ]
  },
  {
   "cell_type": "code",
   "execution_count": null,
   "metadata": {},
   "outputs": [],
   "source": [
    "import re\n",
    "import copy\n",
    "director = copy.copy(soup.select(\"table p\")[77])\n",
    "company = director.contents[-3]\n",
    "director"
   ]
  },
  {
   "cell_type": "code",
   "execution_count": null,
   "metadata": {},
   "outputs": [],
   "source": [
    "i = 0\n",
    "extra = []\n",
    "while re.match('^Chairman[^,]+, .*', company):\n",
    "    print(company)\n",
    "    title, co = re.match('(^Chairman[^,]+), (.*)', company).group(1, 2)\n",
    "    extra.append({'title' : title, 'company' : co})\n",
    "    director.contents.pop(-3)\n",
    "    director.contents.pop(-2)\n",
    "    company = director.contents[-3]\n",
    "print(extra)\n",
    "print(director)"
   ]
  },
  {
   "cell_type": "code",
   "execution_count": null,
   "metadata": {},
   "outputs": [],
   "source": [
    "import json\n",
    "\n",
    "with open('chamber_directors.json') as json_file:\n",
    "    data = json.load(json_file)\n",
    "\n",
    "directors = data['directors']"
   ]
  },
  {
   "cell_type": "code",
   "execution_count": null,
   "metadata": {},
   "outputs": [],
   "source": [
    "import pandas as pd\n",
    "df = pd.DataFrame(directors)"
   ]
  },
  {
   "cell_type": "code",
   "execution_count": null,
   "metadata": {},
   "outputs": [],
   "source": [
    "df"
   ]
  },
  {
   "cell_type": "code",
   "execution_count": null,
   "metadata": {},
   "outputs": [],
   "source": [
    "# littlesis upload format:\n",
    "# name,primary_ext,blurb\n",
    "# <name>,Person,'<title>, <company>, <city>'\n",
    "df['blurb'] = df[['title', 'company', 'city']].apply(lambda x: x.str.cat(sep=', '), axis=1)"
   ]
  },
  {
   "cell_type": "code",
   "execution_count": null,
   "metadata": {},
   "outputs": [],
   "source": [
    "littlesis = df[['name','blurb']].copy()\n",
    "littlesis"
   ]
  },
  {
   "cell_type": "code",
   "execution_count": null,
   "metadata": {},
   "outputs": [],
   "source": []
  }
 ],
 "metadata": {
  "language_info": {
   "name": "python",
   "pygments_lexer": "ipython3"
  }
 },
 "nbformat": 4,
 "nbformat_minor": 2
}
